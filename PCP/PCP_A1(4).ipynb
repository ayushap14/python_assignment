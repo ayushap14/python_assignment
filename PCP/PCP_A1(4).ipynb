{
 "cells": [
  {
   "cell_type": "code",
   "execution_count": 6,
   "id": "5fc9b28a",
   "metadata": {},
   "outputs": [],
   "source": [
    "def first_non_repeated_char(string):\n",
    "    # Create a dictionary to store character frequency\n",
    "    char_freq = {}\n",
    "    \n",
    "    # Loop through the string to calculate character frequency\n",
    "    for char in string:\n",
    "        if char in char_freq:\n",
    "            char_freq[char] += 1\n",
    "        else:\n",
    "            char_freq[char] = 1\n",
    "    \n",
    "    # Loop through the string again to find the first non-repeated character\n",
    "    for char in string:\n",
    "        if char_freq[char] == 1:\n",
    "            return char\n",
    "    \n",
    "    # If no non-repeated character is found, return None\n",
    "    return None\n",
    "\n",
    "\n"
   ]
  },
  {
   "cell_type": "code",
   "execution_count": 8,
   "id": "52a31150",
   "metadata": {},
   "outputs": [
    {
     "name": "stdout",
     "output_type": "stream",
     "text": [
      "h\n",
      "a\n",
      "d\n",
      "y\n"
     ]
    }
   ],
   "source": [
    "# Test the function with some sample inputs\n",
    "print(first_non_repeated_char(\"hello\"))\n",
    "print(first_non_repeated_char(\"abbcc\")) \n",
    "print(first_non_repeated_char(\"aabbccdef\")) \n",
    "print(first_non_repeated_char(\"aayush\")) "
   ]
  }
 ],
 "metadata": {
  "kernelspec": {
   "display_name": "Python 3 (ipykernel)",
   "language": "python",
   "name": "python3"
  },
  "language_info": {
   "codemirror_mode": {
    "name": "ipython",
    "version": 3
   },
   "file_extension": ".py",
   "mimetype": "text/x-python",
   "name": "python",
   "nbconvert_exporter": "python",
   "pygments_lexer": "ipython3",
   "version": "3.11.2"
  }
 },
 "nbformat": 4,
 "nbformat_minor": 5
}
