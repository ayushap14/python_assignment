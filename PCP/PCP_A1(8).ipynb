{
 "cells": [
  {
   "cell_type": "code",
   "execution_count": 1,
   "id": "ef126732",
   "metadata": {},
   "outputs": [],
   "source": [
    "def check_brackets(code):\n",
    "    stack = []\n",
    "    opening_brackets = '({['\n",
    "    closing_brackets = ')}]'\n",
    "    bracket_pairs = {')': '(', '}': '{', ']': '['}\n",
    "    \n",
    "    for char in code:\n",
    "        if char in opening_brackets:\n",
    "            stack.append(char)\n",
    "        elif char in closing_brackets:\n",
    "            if not stack:\n",
    "                return False\n",
    "            elif bracket_pairs[char] == stack[-1]:\n",
    "                stack.pop()\n",
    "            else:\n",
    "                return False\n",
    "    \n",
    "    return not stack\n"
   ]
  },
  {
   "cell_type": "code",
   "execution_count": 2,
   "id": "56154307",
   "metadata": {},
   "outputs": [
    {
     "name": "stdout",
     "output_type": "stream",
     "text": [
      "True\n",
      "True\n",
      "False\n"
     ]
    }
   ],
   "source": [
    "code1 = 'print(\"Hello, world!\")'\n",
    "code2 = 'if (x > y) { z = x - y; }'\n",
    "print(check_brackets(code1))  \n",
    "print(check_brackets(code2))  "
   ]
  },
  {
   "cell_type": "code",
   "execution_count": null,
   "id": "adbaf6a2",
   "metadata": {},
   "outputs": [],
   "source": []
  }
 ],
 "metadata": {
  "kernelspec": {
   "display_name": "Python 3 (ipykernel)",
   "language": "python",
   "name": "python3"
  },
  "language_info": {
   "codemirror_mode": {
    "name": "ipython",
    "version": 3
   },
   "file_extension": ".py",
   "mimetype": "text/x-python",
   "name": "python",
   "nbconvert_exporter": "python",
   "pygments_lexer": "ipython3",
   "version": "3.11.2"
  }
 },
 "nbformat": 4,
 "nbformat_minor": 5
}
