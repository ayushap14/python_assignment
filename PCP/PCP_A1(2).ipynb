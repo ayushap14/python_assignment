{
 "cells": [
  {
   "cell_type": "code",
   "execution_count": 13,
   "id": "22420ee5",
   "metadata": {},
   "outputs": [],
   "source": [
    "def reverse_array(array):\n",
    "    left = 0\n",
    "    right = len(array) - 1\n",
    "    \n",
    "    while left < right:\n",
    "        # Swap the left and right elements\n",
    "        array[left], array[right] = array[right], array[left]\n",
    "        \n",
    "        # Move the left and right pointers towards the middle\n",
    "        left += 1\n",
    "        right -= 1\n",
    "        \n",
    "    # The array is now reversed in place\n",
    "    return array\n"
   ]
  },
  {
   "cell_type": "code",
   "execution_count": 15,
   "id": "22080ee5",
   "metadata": {},
   "outputs": [
    {
     "name": "stdout",
     "output_type": "stream",
     "text": [
      "[100, 80, 60, 40, 20]\n"
     ]
    }
   ],
   "source": [
    "# Example usage\n",
    "arr = [20,40,60,80,100]\n",
    "reverse_array(arr)\n",
    "print(arr)\n"
   ]
  },
  {
   "cell_type": "code",
   "execution_count": null,
   "id": "0a78b96a",
   "metadata": {},
   "outputs": [],
   "source": []
  }
 ],
 "metadata": {
  "kernelspec": {
   "display_name": "Python 3 (ipykernel)",
   "language": "python",
   "name": "python3"
  },
  "language_info": {
   "codemirror_mode": {
    "name": "ipython",
    "version": 3
   },
   "file_extension": ".py",
   "mimetype": "text/x-python",
   "name": "python",
   "nbconvert_exporter": "python",
   "pygments_lexer": "ipython3",
   "version": "3.11.2"
  }
 },
 "nbformat": 4,
 "nbformat_minor": 5
}
