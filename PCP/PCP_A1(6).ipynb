{
 "cells": [
  {
   "cell_type": "code",
   "execution_count": 2,
   "id": "e3742ef9",
   "metadata": {},
   "outputs": [],
   "source": [
    "def postfix_to_prefix(postfix_expr):\n",
    "    stack = []\n",
    "    \n",
    "    for token in postfix_expr.split():\n",
    "        if token.isdigit():\n",
    "            stack.append(token)\n",
    "        else:\n",
    "            operand2 = stack.pop()\n",
    "            operand1 = stack.pop()\n",
    "            prefix_expr = token + ' ' + operand1 + ' ' + operand2\n",
    "            stack.append(prefix_expr)\n",
    "    \n",
    "    return stack.pop()\n"
   ]
  },
  {
   "cell_type": "code",
   "execution_count": 3,
   "id": "bde87e22",
   "metadata": {},
   "outputs": [
    {
     "name": "stdout",
     "output_type": "stream",
     "text": [
      "+ 25 * 44 73\n"
     ]
    }
   ],
   "source": [
    "postfix_expr = '25 44 73 * +'\n",
    "prefix_expr = postfix_to_prefix(postfix_expr)\n",
    "print(prefix_expr)  \n"
   ]
  },
  {
   "cell_type": "code",
   "execution_count": null,
   "id": "df68157c",
   "metadata": {},
   "outputs": [],
   "source": []
  }
 ],
 "metadata": {
  "kernelspec": {
   "display_name": "Python 3 (ipykernel)",
   "language": "python",
   "name": "python3"
  },
  "language_info": {
   "codemirror_mode": {
    "name": "ipython",
    "version": 3
   },
   "file_extension": ".py",
   "mimetype": "text/x-python",
   "name": "python",
   "nbconvert_exporter": "python",
   "pygments_lexer": "ipython3",
   "version": "3.11.2"
  }
 },
 "nbformat": 4,
 "nbformat_minor": 5
}
