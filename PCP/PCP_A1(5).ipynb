{
 "cells": [
  {
   "cell_type": "code",
   "execution_count": 2,
   "id": "9299cd8c",
   "metadata": {},
   "outputs": [
    {
     "name": "stdout",
     "output_type": "stream",
     "text": [
      "Move disk 1 from P to R\n",
      "Move disk 2 from P to Q\n",
      "Move disk 1 from R to Q\n",
      "Move disk 3 from P to R\n",
      "Move disk 1 from Q to P\n",
      "Move disk 2 from Q to R\n",
      "Move disk 1 from P to R\n"
     ]
    }
   ],
   "source": [
    "def tower_of_hanoi(n, source, aux, dest):\n",
    "\n",
    "    if n == 1:\n",
    "        print(f\"Move disk 1 from {source} to {dest}\")\n",
    "        return\n",
    "    \n",
    "    tower_of_hanoi(n-1, source, dest, aux)\n",
    "    print(f\"Move disk {n} from {source} to {dest}\")\n",
    "    tower_of_hanoi(n-1, aux, source, dest)\n",
    "\n",
    "# Test the function with 3 disks\n",
    "tower_of_hanoi(3, \"P\", \"Q\", \"R\")\n"
   ]
  },
  {
   "cell_type": "code",
   "execution_count": null,
   "id": "5fd08e61",
   "metadata": {},
   "outputs": [],
   "source": []
  }
 ],
 "metadata": {
  "kernelspec": {
   "display_name": "Python 3 (ipykernel)",
   "language": "python",
   "name": "python3"
  },
  "language_info": {
   "codemirror_mode": {
    "name": "ipython",
    "version": 3
   },
   "file_extension": ".py",
   "mimetype": "text/x-python",
   "name": "python",
   "nbconvert_exporter": "python",
   "pygments_lexer": "ipython3",
   "version": "3.11.2"
  }
 },
 "nbformat": 4,
 "nbformat_minor": 5
}
