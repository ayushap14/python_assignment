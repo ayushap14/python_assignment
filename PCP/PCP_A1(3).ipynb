{
 "cells": [
  {
   "cell_type": "code",
   "execution_count": 2,
   "id": "547c02f6",
   "metadata": {},
   "outputs": [],
   "source": [
    "def are_rotations(string1, string2):\n",
    "    if len(string1) != len(string2):\n",
    "        return False\n",
    "    \n",
    "    # Concatenate the first string with itself\n",
    "    concat = string1 + string1\n",
    "    \n",
    "    # Check if the second string is a substring of the concatenated string\n",
    "    if string2 in concat:\n",
    "        return True\n",
    "    else:\n",
    "        return False\n",
    "\n"
   ]
  },
  {
   "cell_type": "code",
   "execution_count": 5,
   "id": "04ba0cb6",
   "metadata": {},
   "outputs": [
    {
     "name": "stdout",
     "output_type": "stream",
     "text": [
      "True\n"
     ]
    }
   ],
   "source": [
    "# Example usage\n",
    "s1 = \"hello\"\n",
    "s2 = \"lohel\"\n",
    "print(are_rotations(s1, s2))  # Output: True\n"
   ]
  },
  {
   "cell_type": "code",
   "execution_count": 6,
   "id": "71748792",
   "metadata": {},
   "outputs": [
    {
     "name": "stdout",
     "output_type": "stream",
     "text": [
      "True\n"
     ]
    }
   ],
   "source": [
    "# Example usage\n",
    "s1 = \"ayush\"\n",
    "s2 = \"shayu\"\n",
    "print(are_rotations(s1, s2))  # Output: True"
   ]
  },
  {
   "cell_type": "code",
   "execution_count": null,
   "id": "5ee06854",
   "metadata": {},
   "outputs": [],
   "source": []
  }
 ],
 "metadata": {
  "kernelspec": {
   "display_name": "Python 3 (ipykernel)",
   "language": "python",
   "name": "python3"
  },
  "language_info": {
   "codemirror_mode": {
    "name": "ipython",
    "version": 3
   },
   "file_extension": ".py",
   "mimetype": "text/x-python",
   "name": "python",
   "nbconvert_exporter": "python",
   "pygments_lexer": "ipython3",
   "version": "3.11.2"
  }
 },
 "nbformat": 4,
 "nbformat_minor": 5
}
