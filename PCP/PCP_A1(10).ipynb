{
 "cells": [
  {
   "cell_type": "code",
   "execution_count": 1,
   "id": "065e16bc",
   "metadata": {},
   "outputs": [
    {
     "name": "stdout",
     "output_type": "stream",
     "text": [
      "0\n"
     ]
    }
   ],
   "source": [
    "class Stack:\n",
    "    def __init__(self):\n",
    "        self.items = []\n",
    "        self.min_stack = []\n",
    "\n",
    "    def push(self, item):\n",
    "        self.items.append(item)\n",
    "        if not self.min_stack or item <= self.min_stack[-1]:\n",
    "            self.min_stack.append(item)\n",
    "\n",
    "    def pop(self):\n",
    "        if not self.items:\n",
    "            return None\n",
    "        if self.items[-1] == self.min_stack[-1]:\n",
    "            self.min_stack.pop()\n",
    "        return self.items.pop()\n",
    "\n",
    "    def get_min(self):\n",
    "        if not self.min_stack:\n",
    "            return None\n",
    "        return self.min_stack[-1]\n",
    "\n",
    "if __name__ == '__main__':\n",
    "    s = Stack()\n",
    "    s.push(3)\n",
    "    s.push(1)\n",
    "    s.push(4)\n",
    "    s.push(0)\n",
    "    print(s.get_min()) \n"
   ]
  },
  {
   "cell_type": "code",
   "execution_count": null,
   "id": "59307a6b",
   "metadata": {},
   "outputs": [],
   "source": []
  }
 ],
 "metadata": {
  "kernelspec": {
   "display_name": "Python 3 (ipykernel)",
   "language": "python",
   "name": "python3"
  },
  "language_info": {
   "codemirror_mode": {
    "name": "ipython",
    "version": 3
   },
   "file_extension": ".py",
   "mimetype": "text/x-python",
   "name": "python",
   "nbconvert_exporter": "python",
   "pygments_lexer": "ipython3",
   "version": "3.11.2"
  }
 },
 "nbformat": 4,
 "nbformat_minor": 5
}
