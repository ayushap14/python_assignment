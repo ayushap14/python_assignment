{
 "cells": [
  {
   "cell_type": "code",
   "execution_count": 2,
   "id": "7c119cea",
   "metadata": {},
   "outputs": [],
   "source": [
    "def prefix_to_infix(prefix_expr):\n",
    "    stack = []\n",
    "    \n",
    "    for token in reversed(prefix_expr.split()):\n",
    "        if token.isdigit():\n",
    "            stack.append(token)\n",
    "        else:\n",
    "            operand1 = stack.pop()\n",
    "            operand2 = stack.pop()\n",
    "            infix_expr = '(' + operand1 + ' ' + token + ' ' + operand2 + ')'\n",
    "            stack.append(infix_expr)\n",
    "    \n",
    "    return stack.pop()\n"
   ]
  },
  {
   "cell_type": "code",
   "execution_count": 3,
   "id": "71eb88a9",
   "metadata": {},
   "outputs": [
    {
     "name": "stdout",
     "output_type": "stream",
     "text": [
      "((15 * 14) + 13)\n"
     ]
    }
   ],
   "source": [
    "prefix_expr = '+ * 15 14 13'\n",
    "infix_expr = prefix_to_infix(prefix_expr)\n",
    "print(infix_expr)  \n"
   ]
  },
  {
   "cell_type": "code",
   "execution_count": null,
   "id": "b09a84fc",
   "metadata": {},
   "outputs": [],
   "source": []
  }
 ],
 "metadata": {
  "kernelspec": {
   "display_name": "Python 3 (ipykernel)",
   "language": "python",
   "name": "python3"
  },
  "language_info": {
   "codemirror_mode": {
    "name": "ipython",
    "version": 3
   },
   "file_extension": ".py",
   "mimetype": "text/x-python",
   "name": "python",
   "nbconvert_exporter": "python",
   "pygments_lexer": "ipython3",
   "version": "3.11.2"
  }
 },
 "nbformat": 4,
 "nbformat_minor": 5
}
